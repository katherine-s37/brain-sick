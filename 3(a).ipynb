{
 "cells": [
  {
   "cell_type": "markdown",
   "id": "f7b28ef1",
   "metadata": {},
   "source": [
    "# 导入相关库"
   ]
  },
  {
   "cell_type": "code",
   "execution_count": 1,
   "id": "a6d7e234",
   "metadata": {},
   "outputs": [],
   "source": [
    "import pandas as pd\n",
    "import numpy as np\n",
    "from sklearn.preprocessing import StandardScaler\n",
    "from sklearn.model_selection import StratifiedKFold\n",
    "from sklearn.linear_model import LogisticRegression\n",
    "from sklearn.svm import SVC\n",
    "from sklearn.metrics import accuracy_score\n",
    "from sklearn.ensemble import GradientBoostingClassifier, RandomForestClassifier\n",
    "import xgboost as xgb\n",
    "import warnings\n",
    "warnings.filterwarnings('ignore')\n",
    "pd.set_option('display.max_columns', 100)\n",
    "pd.set_option('display.max_rows', 100)"
   ]
  },
  {
   "cell_type": "markdown",
   "id": "c7b471ac",
   "metadata": {},
   "source": [
    "# 读数据"
   ]
  },
  {
   "cell_type": "code",
   "execution_count": 2,
   "id": "cf485f4b",
   "metadata": {},
   "outputs": [],
   "source": [
    "data = pd.read_excel('./2023年中国研究生数学建模竞赛赛题/E题/data3a.xlsx')\n",
    "data_image = pd.read_excel('./2023年中国研究生数学建模竞赛赛题/E题/竞赛发布数据/表3-患者影像信息血肿及水肿的形状及灰度分布.xlsx')\n"
   ]
  },
  {
   "cell_type": "code",
   "execution_count": 3,
   "id": "fc327f75",
   "metadata": {},
   "outputs": [],
   "source": [
    "data = data.rename(columns={'入院首次影像检查流水号':'流水号'})"
   ]
  },
  {
   "cell_type": "code",
   "execution_count": 4,
   "id": "29956868",
   "metadata": {},
   "outputs": [],
   "source": [
    "data = data.merge(data_image, on='流水号', how='left')"
   ]
  },
  {
   "cell_type": "code",
   "execution_count": 5,
   "id": "7ccc6ddd",
   "metadata": {},
   "outputs": [],
   "source": [
    "train = data.iloc[:100, :]\n",
    "test = data.iloc[100:, :]"
   ]
  },
  {
   "cell_type": "code",
   "execution_count": 6,
   "id": "6f7e7cea",
   "metadata": {},
   "outputs": [],
   "source": [
    "label = train['90天mRS']"
   ]
  },
  {
   "cell_type": "code",
   "execution_count": 7,
   "id": "e6ad4b7c",
   "metadata": {},
   "outputs": [
    {
     "data": {
      "text/plain": [
       "3.0    20\n",
       "2.0    20\n",
       "1.0    19\n",
       "5.0    15\n",
       "4.0    12\n",
       "0.0    10\n",
       "6.0     4\n",
       "Name: 90天mRS, dtype: int64"
      ]
     },
     "execution_count": 7,
     "metadata": {},
     "output_type": "execute_result"
    }
   ],
   "source": [
    "label.value_counts()"
   ]
  },
  {
   "cell_type": "markdown",
   "id": "913035d5",
   "metadata": {},
   "source": [
    "# 特征工程"
   ]
  },
  {
   "cell_type": "code",
   "execution_count": 8,
   "id": "242f9967",
   "metadata": {},
   "outputs": [
    {
     "name": "stdout",
     "output_type": "stream",
     "text": [
      "73\n"
     ]
    }
   ],
   "source": [
    "train.drop(['ID', '流水号', '90天mRS'], axis=1, inplace=True)\n",
    "test.drop(['ID', '流水号'], axis=1, inplace=True)\n",
    "train['高压'] = train['血压'].apply(lambda x: int(x.split('/')[0]))\n",
    "train['低压'] = train['血压'].apply(lambda x: int(x.split('/')[1]))\n",
    "test['高压'] = test['血压'].apply(lambda x: int(x.split('/')[0]))\n",
    "test['低压'] = test['血压'].apply(lambda x: int(x.split('/')[1]))\n",
    "train.drop(['血压'], axis=1, inplace=True)\n",
    "test.drop(['血压'], axis=1, inplace=True)\n",
    "train['性别'] = train['性别'].map({'男':0, '女':1})\n",
    "test['性别'] = test['性别'].map({'男':0, '女':1})\n",
    "feat = train.columns\n",
    "scaler = StandardScaler()\n",
    "train[feat] = scaler.fit_transform(train[feat])\n",
    "test[feat] = scaler.transform(test[feat])\n",
    "print(len(feat))"
   ]
  },
  {
   "cell_type": "code",
   "execution_count": 9,
   "id": "f77ccb45",
   "metadata": {},
   "outputs": [],
   "source": [
    "feat = ['糖尿病史', 'HM_Cerebellum_R_Ratio', 'original_shape_Maximum2DDiameterSlice', 'NCCT_original_firstorder_InterquartileRange', 'original_shape_Elongation', 'ED_Pons_Medulla_L_Ratio', 'NCCT_original_firstorder_Range', '降颅压治疗', 'HM_Pons_Medulla_R_Ratio', '吸烟史', '饮酒史', 'ED_Cerebellum_R_Ratio', 'HM_volume']"
   ]
  },
  {
   "cell_type": "markdown",
   "id": "42ccd148",
   "metadata": {},
   "source": [
    "# 交叉验证"
   ]
  },
  {
   "cell_type": "code",
   "execution_count": 10,
   "id": "0fe03c36",
   "metadata": {},
   "outputs": [],
   "source": [
    "# oof = np.zeros(len(train))\n",
    "# feat_imp = np.zeros(len(feat))\n",
    "# skf = StratifiedKFold(n_splits=5, shuffle=True, random_state=42)\n",
    "# for i, (tra_index, val_index) in enumerate(skf.split(train, label)):\n",
    "#     print(f'第{i+1}折....')\n",
    "#     tra_x = train.iloc[tra_index, :][feat].values\n",
    "#     tra_y = label.iloc[tra_index].values\n",
    "#     val_x = train.iloc[val_index, :][feat].values\n",
    "#     val_y = label.iloc[val_index].values\n",
    "#     model = LogisticRegression(random_state=42)\n",
    "#     model.fit(tra_x, tra_y)\n",
    "#     feat_imp += abs(np.mean(model.coef_, axis=0))\n",
    "#     pred_soft = model.predict_proba(val_x)[:, 1]\n",
    "#     pred = model.predict(val_x)\n",
    "#     score = accuracy_score(val_y, pred)\n",
    "#     print(f'准确率为{score}')\n",
    "#     oof[val_index] = pred\n",
    "# oof_score = accuracy_score(label.values, oof)\n",
    "# feat_imp /= 5\n",
    "# print('*' * 30)\n",
    "# print(f'OOF 准确率 = {oof_score}')"
   ]
  },
  {
   "cell_type": "code",
   "execution_count": 11,
   "id": "9e177a14",
   "metadata": {},
   "outputs": [],
   "source": [
    "def Range_Deviation(y_true, y_pred):\n",
    "    n = len(y_true)\n",
    "    m = np.sum(np.abs(y_true - y_pred) <= 1)\n",
    "    \n",
    "    return m / n"
   ]
  },
  {
   "cell_type": "code",
   "execution_count": 12,
   "id": "a00f31a3",
   "metadata": {},
   "outputs": [
    {
     "name": "stdout",
     "output_type": "stream",
     "text": [
      "第1折....\n",
      "[0]\tvalidation_0-mlogloss:1.82578\n",
      "[1]\tvalidation_0-mlogloss:1.75660\n",
      "[2]\tvalidation_0-mlogloss:1.75550\n",
      "[3]\tvalidation_0-mlogloss:1.72111\n",
      "[4]\tvalidation_0-mlogloss:1.68137\n",
      "[5]\tvalidation_0-mlogloss:1.67242\n",
      "[6]\tvalidation_0-mlogloss:1.68061\n",
      "[7]\tvalidation_0-mlogloss:1.66534\n",
      "[8]\tvalidation_0-mlogloss:1.65914\n",
      "[9]\tvalidation_0-mlogloss:1.66001\n",
      "[10]\tvalidation_0-mlogloss:1.67582\n",
      "[11]\tvalidation_0-mlogloss:1.68229\n",
      "[12]\tvalidation_0-mlogloss:1.70923\n",
      "[13]\tvalidation_0-mlogloss:1.70886\n",
      "[14]\tvalidation_0-mlogloss:1.71735\n",
      "[15]\tvalidation_0-mlogloss:1.71913\n",
      "[16]\tvalidation_0-mlogloss:1.70389\n",
      "[17]\tvalidation_0-mlogloss:1.71870\n",
      "[18]\tvalidation_0-mlogloss:1.73565\n",
      "[19]\tvalidation_0-mlogloss:1.75216\n",
      "[20]\tvalidation_0-mlogloss:1.75934\n",
      "[21]\tvalidation_0-mlogloss:1.76656\n",
      "[22]\tvalidation_0-mlogloss:1.77116\n",
      "[23]\tvalidation_0-mlogloss:1.77909\n",
      "[24]\tvalidation_0-mlogloss:1.78150\n",
      "[25]\tvalidation_0-mlogloss:1.78888\n",
      "[26]\tvalidation_0-mlogloss:1.79851\n",
      "[27]\tvalidation_0-mlogloss:1.79914\n",
      "[28]\tvalidation_0-mlogloss:1.80058\n",
      "[29]\tvalidation_0-mlogloss:1.82035\n",
      "[30]\tvalidation_0-mlogloss:1.81733\n",
      "[31]\tvalidation_0-mlogloss:1.82576\n",
      "[32]\tvalidation_0-mlogloss:1.82749\n",
      "[33]\tvalidation_0-mlogloss:1.83666\n",
      "[34]\tvalidation_0-mlogloss:1.84242\n",
      "[35]\tvalidation_0-mlogloss:1.84078\n",
      "[36]\tvalidation_0-mlogloss:1.85440\n",
      "[37]\tvalidation_0-mlogloss:1.86666\n",
      "准确率为0.75\n",
      "第2折....\n",
      "[0]\tvalidation_0-mlogloss:1.84312\n",
      "[1]\tvalidation_0-mlogloss:1.75976\n",
      "[2]\tvalidation_0-mlogloss:1.78772\n",
      "[3]\tvalidation_0-mlogloss:1.81438\n",
      "[4]\tvalidation_0-mlogloss:1.85373\n",
      "[5]\tvalidation_0-mlogloss:1.89407\n",
      "[6]\tvalidation_0-mlogloss:1.95300\n",
      "[7]\tvalidation_0-mlogloss:1.96813\n",
      "[8]\tvalidation_0-mlogloss:2.00951\n",
      "[9]\tvalidation_0-mlogloss:2.03825\n",
      "[10]\tvalidation_0-mlogloss:2.06422\n",
      "[11]\tvalidation_0-mlogloss:2.08885\n",
      "[12]\tvalidation_0-mlogloss:2.13239\n",
      "[13]\tvalidation_0-mlogloss:2.16651\n",
      "[14]\tvalidation_0-mlogloss:2.20029\n",
      "[15]\tvalidation_0-mlogloss:2.22697\n",
      "[16]\tvalidation_0-mlogloss:2.25983\n",
      "[17]\tvalidation_0-mlogloss:2.27910\n",
      "[18]\tvalidation_0-mlogloss:2.26802\n",
      "[19]\tvalidation_0-mlogloss:2.29002\n",
      "[20]\tvalidation_0-mlogloss:2.30543\n",
      "[21]\tvalidation_0-mlogloss:2.32589\n",
      "[22]\tvalidation_0-mlogloss:2.34510\n",
      "[23]\tvalidation_0-mlogloss:2.36354\n",
      "[24]\tvalidation_0-mlogloss:2.37144\n",
      "[25]\tvalidation_0-mlogloss:2.36631\n",
      "[26]\tvalidation_0-mlogloss:2.40218\n",
      "[27]\tvalidation_0-mlogloss:2.40457\n",
      "[28]\tvalidation_0-mlogloss:2.41265\n",
      "[29]\tvalidation_0-mlogloss:2.41884\n",
      "[30]\tvalidation_0-mlogloss:2.44546\n",
      "[31]\tvalidation_0-mlogloss:2.43895\n",
      "准确率为0.65\n",
      "第3折....\n",
      "[0]\tvalidation_0-mlogloss:1.89238\n",
      "[1]\tvalidation_0-mlogloss:1.89230\n",
      "[2]\tvalidation_0-mlogloss:1.87481\n",
      "[3]\tvalidation_0-mlogloss:1.88351\n",
      "[4]\tvalidation_0-mlogloss:1.88081\n",
      "[5]\tvalidation_0-mlogloss:1.90820\n",
      "[6]\tvalidation_0-mlogloss:1.91335\n",
      "[7]\tvalidation_0-mlogloss:1.96503\n",
      "[8]\tvalidation_0-mlogloss:1.98861\n",
      "[9]\tvalidation_0-mlogloss:2.03639\n",
      "[10]\tvalidation_0-mlogloss:2.05344\n",
      "[11]\tvalidation_0-mlogloss:2.06962\n",
      "[12]\tvalidation_0-mlogloss:2.10020\n",
      "[13]\tvalidation_0-mlogloss:2.14229\n",
      "[14]\tvalidation_0-mlogloss:2.15816\n",
      "[15]\tvalidation_0-mlogloss:2.19921\n",
      "[16]\tvalidation_0-mlogloss:2.21030\n",
      "[17]\tvalidation_0-mlogloss:2.22189\n",
      "[18]\tvalidation_0-mlogloss:2.22861\n",
      "[19]\tvalidation_0-mlogloss:2.24272\n",
      "[20]\tvalidation_0-mlogloss:2.25478\n",
      "[21]\tvalidation_0-mlogloss:2.27787\n",
      "[22]\tvalidation_0-mlogloss:2.30608\n",
      "[23]\tvalidation_0-mlogloss:2.31491\n",
      "[24]\tvalidation_0-mlogloss:2.32088\n",
      "[25]\tvalidation_0-mlogloss:2.34258\n",
      "[26]\tvalidation_0-mlogloss:2.35494\n",
      "[27]\tvalidation_0-mlogloss:2.36853\n",
      "[28]\tvalidation_0-mlogloss:2.38993\n",
      "[29]\tvalidation_0-mlogloss:2.40529\n",
      "[30]\tvalidation_0-mlogloss:2.41554\n",
      "[31]\tvalidation_0-mlogloss:2.42516\n",
      "[32]\tvalidation_0-mlogloss:2.44877\n",
      "准确率为0.7\n",
      "第4折....\n",
      "[0]\tvalidation_0-mlogloss:1.84568\n",
      "[1]\tvalidation_0-mlogloss:1.78925\n",
      "[2]\tvalidation_0-mlogloss:1.79194\n",
      "[3]\tvalidation_0-mlogloss:1.82737\n",
      "[4]\tvalidation_0-mlogloss:1.85189\n",
      "[5]\tvalidation_0-mlogloss:1.85447\n",
      "[6]\tvalidation_0-mlogloss:1.87876\n",
      "[7]\tvalidation_0-mlogloss:1.88215\n",
      "[8]\tvalidation_0-mlogloss:1.89632\n",
      "[9]\tvalidation_0-mlogloss:1.94692\n",
      "[10]\tvalidation_0-mlogloss:1.93393\n",
      "[11]\tvalidation_0-mlogloss:1.95047\n",
      "[12]\tvalidation_0-mlogloss:1.94485\n",
      "[13]\tvalidation_0-mlogloss:1.96108\n",
      "[14]\tvalidation_0-mlogloss:1.98585\n",
      "[15]\tvalidation_0-mlogloss:1.97609\n",
      "[16]\tvalidation_0-mlogloss:2.00327\n",
      "[17]\tvalidation_0-mlogloss:2.01248\n",
      "[18]\tvalidation_0-mlogloss:2.00589\n",
      "[19]\tvalidation_0-mlogloss:2.03743\n",
      "[20]\tvalidation_0-mlogloss:2.06126\n",
      "[21]\tvalidation_0-mlogloss:2.05758\n",
      "[22]\tvalidation_0-mlogloss:2.07407\n",
      "[23]\tvalidation_0-mlogloss:2.08278\n",
      "[24]\tvalidation_0-mlogloss:2.09031\n",
      "[25]\tvalidation_0-mlogloss:2.09747\n",
      "[26]\tvalidation_0-mlogloss:2.11885\n",
      "[27]\tvalidation_0-mlogloss:2.12464\n",
      "[28]\tvalidation_0-mlogloss:2.14243\n",
      "[29]\tvalidation_0-mlogloss:2.15331\n",
      "[30]\tvalidation_0-mlogloss:2.17108\n",
      "[31]\tvalidation_0-mlogloss:2.19581\n",
      "准确率为0.55\n",
      "第5折....\n",
      "[0]\tvalidation_0-mlogloss:1.91177\n",
      "[1]\tvalidation_0-mlogloss:1.89455\n",
      "[2]\tvalidation_0-mlogloss:1.88782\n",
      "[3]\tvalidation_0-mlogloss:1.87864\n",
      "[4]\tvalidation_0-mlogloss:1.88802\n",
      "[5]\tvalidation_0-mlogloss:1.90785\n",
      "[6]\tvalidation_0-mlogloss:1.92031\n",
      "[7]\tvalidation_0-mlogloss:1.95713\n",
      "[8]\tvalidation_0-mlogloss:1.93706\n",
      "[9]\tvalidation_0-mlogloss:1.92165\n",
      "[10]\tvalidation_0-mlogloss:1.90408\n",
      "[11]\tvalidation_0-mlogloss:1.90839\n",
      "[12]\tvalidation_0-mlogloss:1.90598\n",
      "[13]\tvalidation_0-mlogloss:1.87394\n",
      "[14]\tvalidation_0-mlogloss:1.88986\n",
      "[15]\tvalidation_0-mlogloss:1.88083\n",
      "[16]\tvalidation_0-mlogloss:1.86782\n",
      "[17]\tvalidation_0-mlogloss:1.89063\n",
      "[18]\tvalidation_0-mlogloss:1.90605\n",
      "[19]\tvalidation_0-mlogloss:1.91886\n",
      "[20]\tvalidation_0-mlogloss:1.94536\n",
      "[21]\tvalidation_0-mlogloss:1.95251\n",
      "[22]\tvalidation_0-mlogloss:1.95818\n",
      "[23]\tvalidation_0-mlogloss:1.96258\n",
      "[24]\tvalidation_0-mlogloss:1.96006\n",
      "[25]\tvalidation_0-mlogloss:1.97142\n",
      "[26]\tvalidation_0-mlogloss:1.97805\n",
      "[27]\tvalidation_0-mlogloss:1.99143\n",
      "[28]\tvalidation_0-mlogloss:2.00045\n",
      "[29]\tvalidation_0-mlogloss:2.00443\n",
      "[30]\tvalidation_0-mlogloss:2.01930\n",
      "[31]\tvalidation_0-mlogloss:2.02502\n",
      "[32]\tvalidation_0-mlogloss:2.03198\n",
      "[33]\tvalidation_0-mlogloss:2.05224\n",
      "[34]\tvalidation_0-mlogloss:2.06036\n",
      "[35]\tvalidation_0-mlogloss:2.07324\n",
      "[36]\tvalidation_0-mlogloss:2.07047\n",
      "[37]\tvalidation_0-mlogloss:2.07002\n",
      "[38]\tvalidation_0-mlogloss:2.07594\n",
      "[39]\tvalidation_0-mlogloss:2.07810\n",
      "[40]\tvalidation_0-mlogloss:2.08805\n",
      "[41]\tvalidation_0-mlogloss:2.09408\n",
      "[42]\tvalidation_0-mlogloss:2.10612\n",
      "[43]\tvalidation_0-mlogloss:2.11368\n",
      "[44]\tvalidation_0-mlogloss:2.11782\n",
      "[45]\tvalidation_0-mlogloss:2.12360\n",
      "准确率为0.5\n",
      "******************************\n",
      "OOF 准确率 = 0.63\n"
     ]
    }
   ],
   "source": [
    "oof = np.zeros(len(train))\n",
    "feat_imp = np.zeros(len(feat))\n",
    "skf = StratifiedKFold(n_splits=5, shuffle=True, random_state=42)\n",
    "params = {'booster': 'gbtree', \n",
    "         'device': 'cpu', \n",
    "         'eta': 0.01, \n",
    "         'max_depth': 6, \n",
    "         'objective': 'multi:softmax',\n",
    "          'num_round': 300, \n",
    "         'seed': 42, \n",
    "         'num_class': 7}\n",
    "for i, (tra_index, val_index) in enumerate(skf.split(train, label)):\n",
    "    print(f'第{i+1}折....')\n",
    "    tra_x = train.iloc[tra_index, :][feat]\n",
    "    tra_y = label.iloc[tra_index].values\n",
    "    val_x = train.iloc[val_index, :][feat]\n",
    "    val_y = label.iloc[val_index].values\n",
    "    model = xgb.XGBClassifier(params, early_stopping_rounds=30)\n",
    "    model.fit(tra_x, tra_y, eval_set=[(val_x, val_y)])\n",
    "    feat_imp += model.feature_importances_\n",
    "#    pred_soft = model.predict_proba(val_x)[:, 1]\n",
    "    pred = model.predict(val_x)\n",
    "    score = Range_Deviation(val_y, pred)\n",
    "    print(f'准确率为{score}')\n",
    "    oof[val_index] = pred\n",
    "oof_score = Range_Deviation(label.values, oof)\n",
    "feat_imp /= 5\n",
    "print('*' * 30)\n",
    "print(f'OOF 准确率 = {oof_score}')"
   ]
  },
  {
   "cell_type": "markdown",
   "id": "c4917e2c",
   "metadata": {},
   "source": [
    "# 特征选择"
   ]
  },
  {
   "cell_type": "code",
   "execution_count": 13,
   "id": "11722a1b",
   "metadata": {
    "scrolled": true
   },
   "outputs": [],
   "source": [
    "# feature_import = pd.DataFrame()\n",
    "# feature_import['columns'] = feat\n",
    "# feature_import['score'] = feat_imp\n",
    "# feature_import = feature_import.sort_values(by='score', ascending=False)\n",
    "# best_thre = 0\n",
    "# best_score = 0\n",
    "# for j in np.arange(0, 0.03, 0.001):\n",
    "#     print(f'阈值={j}')\n",
    "#     feat = list(feature_import[feature_import['score'] >= j]['columns'].values)\n",
    "#     oof = np.zeros(len(train))\n",
    "#     skf = StratifiedKFold(n_splits=5, shuffle=True, random_state=42)\n",
    "#     for i, (tra_index, val_index) in enumerate(skf.split(train, label)):\n",
    "#         tra_x = train.iloc[tra_index, :][feat]\n",
    "#         tra_y = label.iloc[tra_index].values\n",
    "#         val_x = train.iloc[val_index, :][feat]\n",
    "#         val_y = label.iloc[val_index].values\n",
    "#         model = xgb.XGBClassifier(params, early_stopping_rounds=30)\n",
    "#         model.fit(tra_x, tra_y, eval_set=[(val_x, val_y)])\n",
    "#         pred = model.predict(val_x)\n",
    "#         score = Range_Deviation(val_y, pred)\n",
    "#         oof[val_index] = pred\n",
    "#     oof_score = Range_Deviation(label.values, oof)\n",
    "#     if oof_score > best_score:\n",
    "#         best_score = oof_score\n",
    "#         best_thre = j\n",
    "#     print(f'OOF 准确率 = {oof_score}')\n",
    "#     print('*' * 30)\n",
    "\n",
    "# print(list(feature_import[feature_import['score'] >= best_thre]['columns'].values))\n",
    "# print(best_score)"
   ]
  },
  {
   "cell_type": "markdown",
   "id": "4d852aa6",
   "metadata": {},
   "source": [
    "# 全数据训练和预测"
   ]
  },
  {
   "cell_type": "code",
   "execution_count": 14,
   "id": "80a08783",
   "metadata": {},
   "outputs": [],
   "source": [
    "params = {'booster': 'gbtree', \n",
    "         'device': 'cpu', \n",
    "         'eta': 0.01, \n",
    "         'max_depth': 6, \n",
    "         'objective': 'multi:softmax',\n",
    "          'num_round': 5, \n",
    "         'seed': 42, \n",
    "         'num_class': 7}\n",
    "model = xgb.XGBClassifier(params)\n",
    "model.fit(tra_x, tra_y)\n",
    "train_pred = model.predict(train[feat])\n",
    "test_pred = model.predict(test[feat])\n",
    "all_pred = np.concatenate([train_pred, test_pred])\n",
    "data['pred'] = all_pred\n",
    "data[['ID', 'pred']].to_csv('3a.csv', index=None)"
   ]
  },
  {
   "cell_type": "code",
   "execution_count": 15,
   "id": "9dd05cdf",
   "metadata": {},
   "outputs": [],
   "source": [
    "#可改进的地方：特征工程，使用多个模型，特征选择，调参，多模型集成"
   ]
  },
  {
   "cell_type": "code",
   "execution_count": null,
   "id": "e302f04b",
   "metadata": {},
   "outputs": [],
   "source": []
  }
 ],
 "metadata": {
  "kernelspec": {
   "display_name": "Python 3 (ipykernel)",
   "language": "python",
   "name": "python3"
  },
  "language_info": {
   "codemirror_mode": {
    "name": "ipython",
    "version": 3
   },
   "file_extension": ".py",
   "mimetype": "text/x-python",
   "name": "python",
   "nbconvert_exporter": "python",
   "pygments_lexer": "ipython3",
   "version": "3.8.13"
  }
 },
 "nbformat": 4,
 "nbformat_minor": 5
}
