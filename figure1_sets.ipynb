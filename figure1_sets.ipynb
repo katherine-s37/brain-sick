{
 "cells": [
  {
   "cell_type": "code",
   "execution_count": 1,
   "id": "f8af36aa",
   "metadata": {},
   "outputs": [
    {
     "name": "stdout",
     "output_type": "stream",
     "text": [
      "label\n",
      "不血肿    69\n",
      "血肿     31\n",
      "Name: count, dtype: int64\n",
      "label\n",
      "不血肿    69.0\n",
      "血肿     31.0\n",
      "Name: count, dtype: float64\n"
     ]
    }
   ],
   "source": [
    "#第一问（a）结论描述性分析图\n",
    "import pandas as pd\n",
    "import seaborn as sns\n",
    "import matplotlib.pyplot as plt\n",
    "from matplotlib.font_manager import FontProperties\n",
    "data= pd.read_excel('1a_figure.xlsx')\n",
    "frequency = data[\"label\"].value_counts()\n",
    "print(frequency)\n",
    "#计算每个类别的频率\n",
    "percentage = frequency * 100 / len(data)\n",
    "print(percentage)\n"
   ]
  },
  {
   "cell_type": "code",
   "execution_count": 15,
   "id": "8e2b023d",
   "metadata": {},
   "outputs": [
    {
     "name": "stderr",
     "output_type": "stream",
     "text": [
      "No artists with labels found to put in legend.  Note that artists whose label start with an underscore are ignored when legend() is called with no argument.\n",
      "findfont: Font family 'Microsoft YaHei' not found.\n",
      "findfont: Font family 'Microsoft YaHei' not found.\n",
      "findfont: Font family 'Microsoft YaHei' not found.\n",
      "findfont: Font family 'Microsoft YaHei' not found.\n",
      "findfont: Font family 'Microsoft YaHei' not found.\n",
      "findfont: Font family 'Microsoft YaHei' not found.\n",
      "findfont: Font family 'Microsoft YaHei' not found.\n",
      "findfont: Font family 'Microsoft YaHei' not found.\n",
      "findfont: Font family 'Microsoft YaHei' not found.\n",
      "findfont: Font family 'Microsoft YaHei' not found.\n",
      "findfont: Font family 'Microsoft YaHei' not found.\n",
      "findfont: Font family 'Microsoft YaHei' not found.\n",
      "findfont: Font family 'Microsoft YaHei' not found.\n"
     ]
    },
    {
     "data": {
      "image/png": "[encoded data removed]",
      "text/plain": [
       "<Figure size 640x480 with 1 Axes>"
      ]
     },
     "metadata": {},
     "output_type": "display_data"
    }
   ],
   "source": [
    "import matplotlib.pyplot as plt\n",
    "# plt.rcParams['font.sans-serif']=['SimHei'] #用来正常显示中文标签\n",
    "# matplotlib.rcParams['font.family'] = 'Microsoft YaHei' \n",
    "plt.legend(prop={'family':'SimHei','size':15})\n",
    "   \n",
    "labels = 'hem','nhem'\n",
    "sizes = [31,69]\n",
    "plt.pie(sizes,labels=labels)\n",
    " \n",
    "plt.title(\"Training set hematoma distribution pie chart\")\n",
    "# plt.text(1,-1.2,'By:Kath')\n",
    "plt.show()"
   ]
  },
  {
   "cell_type": "code",
   "execution_count": 18,
   "id": "4166cce7",
   "metadata": {},
   "outputs": [
    {
     "data": {
      "text/html": [
       "<div>\n",
       "<style scoped>\n",
       "    .dataframe tbody tr th:only-of-type {\n",
       "        vertical-align: middle;\n",
       "    }\n",
       "\n",
       "    .dataframe tbody tr th {\n",
       "        vertical-align: top;\n",
       "    }\n",
       "\n",
       "    .dataframe thead th {\n",
       "        text-align: right;\n",
       "    }\n",
       "</style>\n",
       "<table border=\"1\" class=\"dataframe\">\n",
       "  <thead>\n",
       "    <tr style=\"text-align: right;\">\n",
       "      <th></th>\n",
       "      <th>esp_time</th>\n",
       "    </tr>\n",
       "  </thead>\n",
       "  <tbody>\n",
       "    <tr>\n",
       "      <th>0</th>\n",
       "      <td>9.522500</td>\n",
       "    </tr>\n",
       "    <tr>\n",
       "      <th>1</th>\n",
       "      <td>26.467500</td>\n",
       "    </tr>\n",
       "    <tr>\n",
       "      <th>2</th>\n",
       "      <td>2.245833</td>\n",
       "    </tr>\n",
       "    <tr>\n",
       "      <th>3</th>\n",
       "      <td>16.056111</td>\n",
       "    </tr>\n",
       "    <tr>\n",
       "      <th>4</th>\n",
       "      <td>24.373056</td>\n",
       "    </tr>\n",
       "  </tbody>\n",
       "</table>\n",
       "</div>"
      ],
      "text/plain": [
       "    esp_time\n",
       "0   9.522500\n",
       "1  26.467500\n",
       "2   2.245833\n",
       "3  16.056111\n",
       "4  24.373056"
      ]
     },
     "execution_count": 18,
     "metadata": {},
     "output_type": "execute_result"
    }
   ],
   "source": [
    "data2 = pd.read_excel(\"1a2_figure.xlsx\")\n",
    "data2.head()"
   ]
  },
  {
   "cell_type": "code",
   "execution_count": 19,
   "id": "acbf46a7",
   "metadata": {},
   "outputs": [
    {
     "data": {
      "text/html": [
       "<div>\n",
       "<style scoped>\n",
       "    .dataframe tbody tr th:only-of-type {\n",
       "        vertical-align: middle;\n",
       "    }\n",
       "\n",
       "    .dataframe tbody tr th {\n",
       "        vertical-align: top;\n",
       "    }\n",
       "\n",
       "    .dataframe thead th {\n",
       "        text-align: right;\n",
       "    }\n",
       "</style>\n",
       "<table border=\"1\" class=\"dataframe\">\n",
       "  <thead>\n",
       "    <tr style=\"text-align: right;\">\n",
       "      <th></th>\n",
       "      <th>esp_time</th>\n",
       "    </tr>\n",
       "  </thead>\n",
       "  <tbody>\n",
       "    <tr>\n",
       "      <th>count</th>\n",
       "      <td>31.000000</td>\n",
       "    </tr>\n",
       "    <tr>\n",
       "      <th>mean</th>\n",
       "      <td>14.821514</td>\n",
       "    </tr>\n",
       "    <tr>\n",
       "      <th>std</th>\n",
       "      <td>7.554595</td>\n",
       "    </tr>\n",
       "    <tr>\n",
       "      <th>min</th>\n",
       "      <td>2.245833</td>\n",
       "    </tr>\n",
       "    <tr>\n",
       "      <th>25%</th>\n",
       "      <td>8.477083</td>\n",
       "    </tr>\n",
       "    <tr>\n",
       "      <th>50%</th>\n",
       "      <td>15.501111</td>\n",
       "    </tr>\n",
       "    <tr>\n",
       "      <th>75%</th>\n",
       "      <td>19.113333</td>\n",
       "    </tr>\n",
       "    <tr>\n",
       "      <th>max</th>\n",
       "      <td>32.870000</td>\n",
       "    </tr>\n",
       "  </tbody>\n",
       "</table>\n",
       "</div>"
      ],
      "text/plain": [
       "        esp_time\n",
       "count  31.000000\n",
       "mean   14.821514\n",
       "std     7.554595\n",
       "min     2.245833\n",
       "25%     8.477083\n",
       "50%    15.501111\n",
       "75%    19.113333\n",
       "max    32.870000"
      ]
     },
     "execution_count": 19,
     "metadata": {},
     "output_type": "execute_result"
    }
   ],
   "source": [
    "data2.mean()\n",
    "data2.describe()"
   ]
  },
  {
   "cell_type": "code",
   "execution_count": 23,
   "id": "927d3171",
   "metadata": {},
   "outputs": [
    {
     "data": {
      "text/plain": [
       "(array([69.,  1.,  2.,  2.,  3.,  2.,  0.,  2.,  2.,  6.,  2.,  2.,  1.,\n",
       "         0.,  3.,  1.,  1.,  0.,  0.,  1.]),\n",
       " array([ 0.    ,  1.6435,  3.287 ,  4.9305,  6.574 ,  8.2175,  9.861 ,\n",
       "        11.5045, 13.148 , 14.7915, 16.435 , 18.0785, 19.722 , 21.3655,\n",
       "        23.009 , 24.6525, 26.296 , 27.9395, 29.583 , 31.2265, 32.87  ]),\n",
       " <BarContainer object of 20 artists>)"
      ]
     },
     "execution_count": 23,
     "metadata": {},
     "output_type": "execute_result"
    },
    {
     "name": "stderr",
     "output_type": "stream",
     "text": [
      "findfont: Font family 'Microsoft YaHei' not found.\n",
      "findfont: Font family 'Microsoft YaHei' not found.\n",
      "findfont: Font family 'Microsoft YaHei' not found.\n",
      "findfont: Font family 'Microsoft YaHei' not found.\n",
      "findfont: Font family 'Microsoft YaHei' not found.\n",
      "findfont: Font family 'Microsoft YaHei' not found.\n",
      "findfont: Font family 'Microsoft YaHei' not found.\n",
      "findfont: Font family 'Microsoft YaHei' not found.\n",
      "findfont: Font family 'Microsoft YaHei' not found.\n",
      "findfont: Font family 'Microsoft YaHei' not found.\n",
      "findfont: Font family 'Microsoft YaHei' not found.\n",
      "findfont: Font family 'Microsoft YaHei' not found.\n",
      "findfont: Font family 'Microsoft YaHei' not found.\n",
      "findfont: Font family 'Microsoft YaHei' not found.\n",
      "findfont: Font family 'Microsoft YaHei' not found.\n",
      "findfont: Font family 'Microsoft YaHei' not found.\n",
      "findfont: Font family 'Microsoft YaHei' not found.\n",
      "findfont: Font family 'Microsoft YaHei' not found.\n",
      "findfont: Font family 'Microsoft YaHei' not found.\n",
      "findfont: Font family 'Microsoft YaHei' not found.\n",
      "findfont: Font family 'Microsoft YaHei' not found.\n",
      "findfont: Font family 'Microsoft YaHei' not found.\n",
      "findfont: Font family 'Microsoft YaHei' not found.\n",
      "findfont: Font family 'Microsoft YaHei' not found.\n",
      "findfont: Font family 'Microsoft YaHei' not found.\n",
      "findfont: Font family 'Microsoft YaHei' not found.\n",
      "findfont: Font family 'Microsoft YaHei' not found.\n",
      "findfont: Font family 'Microsoft YaHei' not found.\n",
      "findfont: Font family 'Microsoft YaHei' not found.\n",
      "findfont: Font family 'Microsoft YaHei' not found.\n",
      "findfont: Font family 'Microsoft YaHei' not found.\n",
      "findfont: Font family 'Microsoft YaHei' not found.\n",
      "findfont: Font family 'Microsoft YaHei' not found.\n",
      "findfont: Font family 'Microsoft YaHei' not found.\n",
      "findfont: Font family 'Microsoft YaHei' not found.\n",
      "findfont: Font family 'Microsoft YaHei' not found.\n",
      "findfont: Font family 'Microsoft YaHei' not found.\n",
      "findfont: Font family 'Microsoft YaHei' not found.\n",
      "findfont: Font family 'Microsoft YaHei' not found.\n",
      "findfont: Font family 'Microsoft YaHei' not found.\n",
      "findfont: Font family 'Microsoft YaHei' not found.\n",
      "findfont: Font family 'Microsoft YaHei' not found.\n",
      "findfont: Font family 'Microsoft YaHei' not found.\n",
      "findfont: Font family 'Microsoft YaHei' not found.\n",
      "findfont: Font family 'Microsoft YaHei' not found.\n",
      "findfont: Font family 'Microsoft YaHei' not found.\n",
      "findfont: Font family 'Microsoft YaHei' not found.\n",
      "findfont: Font family 'Microsoft YaHei' not found.\n",
      "findfont: Font family 'Microsoft YaHei' not found.\n",
      "findfont: Font family 'Microsoft YaHei' not found.\n",
      "findfont: Font family 'Microsoft YaHei' not found.\n",
      "findfont: Font family 'Microsoft YaHei' not found.\n",
      "findfont: Font family 'Microsoft YaHei' not found.\n",
      "findfont: Font family 'Microsoft YaHei' not found.\n"
     ]
    },
    {
     "data": {
      "image/png": "[encoded data removed]",
      "text/plain": [
       "<Figure size 640x480 with 1 Axes>"
      ]
     },
     "metadata": {},
     "output_type": "display_data"
    }
   ],
   "source": [
    "plt.hist(data['esp_time'], bins=20)"
   ]
  },
  {
   "cell_type": "code",
   "execution_count": 24,
   "id": "cb7f8db3",
   "metadata": {},
   "outputs": [
    {
     "data": {
      "text/plain": [
       "{'whiskers': [<matplotlib.lines.Line2D at 0x17b1f31f0>,\n",
       "  <matplotlib.lines.Line2D at 0x17b1f3490>],\n",
       " 'caps': [<matplotlib.lines.Line2D at 0x17b1f3730>,\n",
       "  <matplotlib.lines.Line2D at 0x17b1f39d0>],\n",
       " 'boxes': [<matplotlib.lines.Line2D at 0x17b1f2f50>],\n",
       " 'medians': [<matplotlib.lines.Line2D at 0x17b1f3c70>],\n",
       " 'fliers': [<matplotlib.lines.Line2D at 0x17b1f3f10>],\n",
       " 'means': []}"
      ]
     },
     "execution_count": 24,
     "metadata": {},
     "output_type": "execute_result"
    },
    {
     "name": "stderr",
     "output_type": "stream",
     "text": [
      "findfont: Font family 'Microsoft YaHei' not found.\n",
      "findfont: Font family 'Microsoft YaHei' not found.\n",
      "findfont: Font family 'Microsoft YaHei' not found.\n",
      "findfont: Font family 'Microsoft YaHei' not found.\n",
      "findfont: Font family 'Microsoft YaHei' not found.\n",
      "findfont: Font family 'Microsoft YaHei' not found.\n",
      "findfont: Font family 'Microsoft YaHei' not found.\n",
      "findfont: Font family 'Microsoft YaHei' not found.\n",
      "findfont: Font family 'Microsoft YaHei' not found.\n",
      "findfont: Font family 'Microsoft YaHei' not found.\n",
      "findfont: Font family 'Microsoft YaHei' not found.\n",
      "findfont: Font family 'Microsoft YaHei' not found.\n",
      "findfont: Font family 'Microsoft YaHei' not found.\n",
      "findfont: Font family 'Microsoft YaHei' not found.\n",
      "findfont: Font family 'Microsoft YaHei' not found.\n",
      "findfont: Font family 'Microsoft YaHei' not found.\n",
      "findfont: Font family 'Microsoft YaHei' not found.\n",
      "findfont: Font family 'Microsoft YaHei' not found.\n",
      "findfont: Font family 'Microsoft YaHei' not found.\n",
      "findfont: Font family 'Microsoft YaHei' not found.\n",
      "findfont: Font family 'Microsoft YaHei' not found.\n",
      "findfont: Font family 'Microsoft YaHei' not found.\n",
      "findfont: Font family 'Microsoft YaHei' not found.\n",
      "findfont: Font family 'Microsoft YaHei' not found.\n",
      "findfont: Font family 'Microsoft YaHei' not found.\n",
      "findfont: Font family 'Microsoft YaHei' not found.\n",
      "findfont: Font family 'Microsoft YaHei' not found.\n",
      "findfont: Font family 'Microsoft YaHei' not found.\n",
      "findfont: Font family 'Microsoft YaHei' not found.\n",
      "findfont: Font family 'Microsoft YaHei' not found.\n",
      "findfont: Font family 'Microsoft YaHei' not found.\n",
      "findfont: Font family 'Microsoft YaHei' not found.\n",
      "findfont: Font family 'Microsoft YaHei' not found.\n",
      "findfont: Font family 'Microsoft YaHei' not found.\n"
     ]
    },
    {
     "data": {
      "image/png": "[encoded data removed]",
      "text/plain": [
       "<Figure size 640x480 with 1 Axes>"
      ]
     },
     "metadata": {},
     "output_type": "display_data"
    }
   ],
   "source": [
    "plt.boxplot(data['esp_time'])"
   ]
  },
  {
   "cell_type": "code",
   "execution_count": 27,
   "id": "6d92a728",
   "metadata": {},
   "outputs": [
    {
     "data": {
      "text/plain": [
       "(array([10.,  4.,  6.,  8.,  3.,  4.,  5.,  3.,  2.,  5.,  0.,  9., 10.,\n",
       "         7., 10., 10.,  9., 14., 19., 22.]),\n",
       " array([4.00309015e-07, 4.99541691e-02, 9.99079378e-02, 1.49861707e-01,\n",
       "        1.99815475e-01, 2.49769244e-01, 2.99723013e-01, 3.49676782e-01,\n",
       "        3.99630550e-01, 4.49584319e-01, 4.99538088e-01, 5.49491857e-01,\n",
       "        5.99445625e-01, 6.49399394e-01, 6.99353163e-01, 7.49306932e-01,\n",
       "        7.99260700e-01, 8.49214469e-01, 8.99168238e-01, 9.49122007e-01,\n",
       "        9.99075775e-01]),\n",
       " <BarContainer object of 20 artists>)"
      ]
     },
     "execution_count": 27,
     "metadata": {},
     "output_type": "execute_result"
    },
    {
     "name": "stderr",
     "output_type": "stream",
     "text": [
      "findfont: Font family 'Microsoft YaHei' not found.\n",
      "findfont: Font family 'Microsoft YaHei' not found.\n",
      "findfont: Font family 'Microsoft YaHei' not found.\n",
      "findfont: Font family 'Microsoft YaHei' not found.\n",
      "findfont: Font family 'Microsoft YaHei' not found.\n",
      "findfont: Font family 'Microsoft YaHei' not found.\n",
      "findfont: Font family 'Microsoft YaHei' not found.\n",
      "findfont: Font family 'Microsoft YaHei' not found.\n",
      "findfont: Font family 'Microsoft YaHei' not found.\n",
      "findfont: Font family 'Microsoft YaHei' not found.\n",
      "findfont: Font family 'Microsoft YaHei' not found.\n",
      "findfont: Font family 'Microsoft YaHei' not found.\n",
      "findfont: Font family 'Microsoft YaHei' not found.\n",
      "findfont: Font family 'Microsoft YaHei' not found.\n",
      "findfont: Font family 'Microsoft YaHei' not found.\n",
      "findfont: Font family 'Microsoft YaHei' not found.\n",
      "findfont: Font family 'Microsoft YaHei' not found.\n",
      "findfont: Font family 'Microsoft YaHei' not found.\n",
      "findfont: Font family 'Microsoft YaHei' not found.\n",
      "findfont: Font family 'Microsoft YaHei' not found.\n",
      "findfont: Font family 'Microsoft YaHei' not found.\n",
      "findfont: Font family 'Microsoft YaHei' not found.\n",
      "findfont: Font family 'Microsoft YaHei' not found.\n",
      "findfont: Font family 'Microsoft YaHei' not found.\n",
      "findfont: Font family 'Microsoft YaHei' not found.\n",
      "findfont: Font family 'Microsoft YaHei' not found.\n",
      "findfont: Font family 'Microsoft YaHei' not found.\n",
      "findfont: Font family 'Microsoft YaHei' not found.\n",
      "findfont: Font family 'Microsoft YaHei' not found.\n",
      "findfont: Font family 'Microsoft YaHei' not found.\n",
      "findfont: Font family 'Microsoft YaHei' not found.\n",
      "findfont: Font family 'Microsoft YaHei' not found.\n",
      "findfont: Font family 'Microsoft YaHei' not found.\n",
      "findfont: Font family 'Microsoft YaHei' not found.\n",
      "findfont: Font family 'Microsoft YaHei' not found.\n",
      "findfont: Font family 'Microsoft YaHei' not found.\n",
      "findfont: Font family 'Microsoft YaHei' not found.\n",
      "findfont: Font family 'Microsoft YaHei' not found.\n",
      "findfont: Font family 'Microsoft YaHei' not found.\n",
      "findfont: Font family 'Microsoft YaHei' not found.\n",
      "findfont: Font family 'Microsoft YaHei' not found.\n",
      "findfont: Font family 'Microsoft YaHei' not found.\n",
      "findfont: Font family 'Microsoft YaHei' not found.\n",
      "findfont: Font family 'Microsoft YaHei' not found.\n",
      "findfont: Font family 'Microsoft YaHei' not found.\n",
      "findfont: Font family 'Microsoft YaHei' not found.\n"
     ]
    },
    {
     "data": {
      "image/png": "[encoded data removed]",
      "text/plain": [
       "<Figure size 640x480 with 1 Axes>"
      ]
     },
     "metadata": {},
     "output_type": "display_data"
    }
   ],
   "source": [
    "#第一问（b）\n",
    "data3= pd.read_csv('1b.csv')\n",
    "plt.hist(data3['pred'], bins=20)\n"
   ]
  },
  {
   "cell_type": "code",
   "execution_count": 28,
   "id": "1b127865",
   "metadata": {},
   "outputs": [
    {
     "data": {
      "text/html": [
       "<div>\n",
       "<style scoped>\n",
       "    .dataframe tbody tr th:only-of-type {\n",
       "        vertical-align: middle;\n",
       "    }\n",
       "\n",
       "    .dataframe tbody tr th {\n",
       "        vertical-align: top;\n",
       "    }\n",
       "\n",
       "    .dataframe thead th {\n",
       "        text-align: right;\n",
       "    }\n",
       "</style>\n",
       "<table border=\"1\" class=\"dataframe\">\n",
       "  <thead>\n",
       "    <tr style=\"text-align: right;\">\n",
       "      <th></th>\n",
       "      <th>pred</th>\n",
       "    </tr>\n",
       "  </thead>\n",
       "  <tbody>\n",
       "    <tr>\n",
       "      <th>count</th>\n",
       "      <td>1.600000e+02</td>\n",
       "    </tr>\n",
       "    <tr>\n",
       "      <th>mean</th>\n",
       "      <td>6.266339e-01</td>\n",
       "    </tr>\n",
       "    <tr>\n",
       "      <th>std</th>\n",
       "      <td>3.179200e-01</td>\n",
       "    </tr>\n",
       "    <tr>\n",
       "      <th>min</th>\n",
       "      <td>4.003090e-07</td>\n",
       "    </tr>\n",
       "    <tr>\n",
       "      <th>25%</th>\n",
       "      <td>3.625030e-01</td>\n",
       "    </tr>\n",
       "    <tr>\n",
       "      <th>50%</th>\n",
       "      <td>7.263034e-01</td>\n",
       "    </tr>\n",
       "    <tr>\n",
       "      <th>75%</th>\n",
       "      <td>9.005836e-01</td>\n",
       "    </tr>\n",
       "    <tr>\n",
       "      <th>max</th>\n",
       "      <td>9.990758e-01</td>\n",
       "    </tr>\n",
       "  </tbody>\n",
       "</table>\n",
       "</div>"
      ],
      "text/plain": [
       "               pred\n",
       "count  1.600000e+02\n",
       "mean   6.266339e-01\n",
       "std    3.179200e-01\n",
       "min    4.003090e-07\n",
       "25%    3.625030e-01\n",
       "50%    7.263034e-01\n",
       "75%    9.005836e-01\n",
       "max    9.990758e-01"
      ]
     },
     "execution_count": 28,
     "metadata": {},
     "output_type": "execute_result"
    }
   ],
   "source": [
    "data3.describe()"
   ]
  },
  {
   "cell_type": "code",
   "execution_count": null,
   "id": "5158755c",
   "metadata": {},
   "outputs": [],
   "source": []
  }
 ],
 "metadata": {
  "kernelspec": {
   "display_name": "Python 3 (ipykernel)",
   "language": "python",
   "name": "python3"
  },
  "language_info": {
   "codemirror_mode": {
    "name": "ipython",
    "version": 3
   },
   "file_extension": ".py",
   "mimetype": "text/x-python",
   "name": "python",
   "nbconvert_exporter": "python",
   "pygments_lexer": "ipython3",
   "version": "3.10.9"
  }
 },
 "nbformat": 4,
 "nbformat_minor": 5
}
