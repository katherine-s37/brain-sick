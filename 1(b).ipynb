{
 "cells": [
  {
   "cell_type": "markdown",
   "id": "f7b28ef1",
   "metadata": {},
   "source": [
    "# 导入相关库"
   ]
  },
  {
   "cell_type": "code",
   "execution_count": 1,
   "id": "a6d7e234",
   "metadata": {},
   "outputs": [],
   "source": [
    "import pandas as pd\n",
    "import numpy as np\n",
    "from sklearn.preprocessing import StandardScaler\n",
    "from sklearn.model_selection import StratifiedKFold\n",
    "from sklearn.linear_model import LogisticRegression\n",
    "from sklearn.svm import SVC\n",
    "from sklearn.metrics import accuracy_score\n",
    "from sklearn.ensemble import GradientBoostingClassifier, RandomForestClassifier\n",
    "import warnings\n",
    "warnings.filterwarnings('ignore')\n",
    "pd.set_option('display.max_columns', 100)\n",
    "pd.set_option('display.max_rows', 100)"
   ]
  },
  {
   "cell_type": "markdown",
   "id": "c7b471ac",
   "metadata": {},
   "source": [
    "# 读数据"
   ]
  },
  {
   "cell_type": "code",
   "execution_count": 2,
   "id": "cf485f4b",
   "metadata": {},
   "outputs": [],
   "source": [
    "data = pd.read_excel('data1b.xlsx')\n",
    "data_image = pd.read_excel('表3-患者影像信息血肿及水肿的形状及灰度分布.xlsx')\n",
    "label = pd.read_csv('fin_result.csv')"
   ]
  },
  {
   "cell_type": "code",
   "execution_count": 3,
   "id": "29956868",
   "metadata": {},
   "outputs": [],
   "source": [
    "data = data.rename(columns={'Unnamed: 0':'ID', '入院首次影像检查流水号':'流水号'})\n",
    "data = data.merge(data_image, on='流水号', how='left')\n",
    "data = data.merge(label[['ID', 'label']], on='ID', how='left')"
   ]
  },
  {
   "cell_type": "code",
   "execution_count": 4,
   "id": "7ccc6ddd",
   "metadata": {},
   "outputs": [],
   "source": [
    "train = data.iloc[:100, :]\n",
    "test = data.iloc[100:, :]"
   ]
  },
  {
   "cell_type": "code",
   "execution_count": 5,
   "id": "6f7e7cea",
   "metadata": {},
   "outputs": [],
   "source": [
    "label = train['label']"
   ]
  },
  {
   "cell_type": "code",
   "execution_count": 6,
   "id": "e6ad4b7c",
   "metadata": {},
   "outputs": [
    {
     "data": {
      "text/plain": [
       "0.0    77\n",
       "1.0    23\n",
       "Name: label, dtype: int64"
      ]
     },
     "execution_count": 6,
     "metadata": {},
     "output_type": "execute_result"
    }
   ],
   "source": [
    "label.value_counts()"
   ]
  },
  {
   "cell_type": "markdown",
   "id": "913035d5",
   "metadata": {},
   "source": [
    "# 特征工程"
   ]
  },
  {
   "cell_type": "code",
   "execution_count": 7,
   "id": "242f9967",
   "metadata": {},
   "outputs": [
    {
     "name": "stdout",
     "output_type": "stream",
     "text": [
      "73\n"
     ]
    }
   ],
   "source": [
    "train.drop(['ID', '流水号', 'label'], axis=1, inplace=True)\n",
    "test.drop(['ID', '流水号'], axis=1, inplace=True)\n",
    "train['高压'] = train['血压'].apply(lambda x: int(x.split('/')[0]))\n",
    "train['低压'] = train['血压'].apply(lambda x: int(x.split('/')[1]))\n",
    "test['高压'] = test['血压'].apply(lambda x: int(x.split('/')[0]))\n",
    "test['低压'] = test['血压'].apply(lambda x: int(x.split('/')[1]))\n",
    "train.drop(['血压'], axis=1, inplace=True)\n",
    "test.drop(['血压'], axis=1, inplace=True)\n",
    "train['性别'] = train['性别'].map({'男':0, '女':1})\n",
    "test['性别'] = test['性别'].map({'男':0, '女':1})\n",
    "feat = train.columns\n",
    "scaler = StandardScaler()\n",
    "train[feat] = scaler.fit_transform(train[feat])\n",
    "test[feat] = scaler.transform(test[feat])\n",
    "print(len(feat))"
   ]
  },
  {
   "cell_type": "code",
   "execution_count": 8,
   "id": "f77ccb45",
   "metadata": {},
   "outputs": [],
   "source": [
    "feat = ['饮酒史',\n",
    " 'ED_PCA_R_Ratio',\n",
    " '卒中病史',\n",
    " 'HM_ACA_R_Ratio',\n",
    " '止血治疗',\n",
    " '脑出血前mRS评分',\n",
    " 'NCCT_original_firstorder_Kurtosis',\n",
    " '发病到首次影像检查时间间隔',\n",
    " '营养神经',\n",
    " 'HM_PCA_L_Ratio',\n",
    " 'original_shape_Maximum3DDiameter',\n",
    " '降压治疗',\n",
    " 'ED_MCA_R_Ratio',\n",
    " 'original_shape_Maximum2DDiameterColumn',\n",
    " '冠心病史',\n",
    " 'NCCT_original_firstorder_Minimum',\n",
    " '低压']"
   ]
  },
  {
   "cell_type": "markdown",
   "id": "42ccd148",
   "metadata": {},
   "source": [
    "# 交叉验证"
   ]
  },
  {
   "cell_type": "code",
   "execution_count": 9,
   "id": "0fe03c36",
   "metadata": {},
   "outputs": [
    {
     "name": "stdout",
     "output_type": "stream",
     "text": [
      "第1折....\n",
      "准确率为0.65\n",
      "第2折....\n",
      "准确率为0.65\n",
      "第3折....\n",
      "准确率为0.75\n",
      "第4折....\n",
      "准确率为0.8\n",
      "第5折....\n",
      "准确率为0.8\n",
      "******************************\n",
      "OOF 准确率 = 0.73\n"
     ]
    }
   ],
   "source": [
    "oof = np.zeros(len(train))\n",
    "feat_imp = np.zeros(len(feat))\n",
    "skf = StratifiedKFold(n_splits=5, shuffle=True, random_state=42)\n",
    "for i, (tra_index, val_index) in enumerate(skf.split(train, label)):\n",
    "    print(f'第{i+1}折....')\n",
    "    tra_x = train.iloc[tra_index, :][feat].values\n",
    "    tra_y = label.iloc[tra_index].values\n",
    "    val_x = train.iloc[val_index, :][feat].values\n",
    "    val_y = label.iloc[val_index].values\n",
    "    model = LogisticRegression(class_weight='balanced', random_state=42)\n",
    "    model.fit(tra_x, tra_y)\n",
    "    feat_imp += abs(model.coef_.reshape(-1))\n",
    "    pred_soft = model.predict_proba(val_x)[:, 1]\n",
    "    pred = model.predict(val_x)\n",
    "    score = accuracy_score(val_y, pred)\n",
    "    print(f'准确率为{score}')\n",
    "    oof[val_index] = pred\n",
    "oof_score = accuracy_score(label.values, oof)\n",
    "feat_imp /= 5\n",
    "print('*' * 30)\n",
    "print(f'OOF 准确率 = {oof_score}')"
   ]
  },
  {
   "cell_type": "code",
   "execution_count": 10,
   "id": "a00f31a3",
   "metadata": {},
   "outputs": [],
   "source": [
    "# oof = np.zeros(len(train))\n",
    "# feat_imp = np.zeros(len(feat))\n",
    "# skf = StratifiedKFold(n_splits=5, shuffle=True, random_state=42)\n",
    "# for i, (tra_index, val_index) in enumerate(skf.split(train, label)):\n",
    "#     print(f'第{i+1}折....')\n",
    "#     tra_x = train.iloc[tra_index, :][feat].values\n",
    "#     tra_y = label.iloc[tra_index].values\n",
    "#     val_x = train.iloc[val_index, :][feat].values\n",
    "#     val_y = label.iloc[val_index].values\n",
    "#     model = GradientBoostingClassifier(random_state=42)\n",
    "#     model.fit(tra_x, tra_y)\n",
    "#     feat_imp += model.feature_importances_\n",
    "#     pred_soft = model.predict_proba(val_x)[:, 1]\n",
    "#     pred = model.predict(val_x)\n",
    "#     score = accuracy_score(val_y, pred)\n",
    "#     print(f'准确率为{score}')\n",
    "#     oof[val_index] = pred\n",
    "# oof_score = accuracy_score(label.values, oof)\n",
    "# feat_imp /= 5\n",
    "# print('*' * 30)\n",
    "# print(f'OOF 准确率 = {oof_score}')"
   ]
  },
  {
   "cell_type": "markdown",
   "id": "c4917e2c",
   "metadata": {},
   "source": [
    "# 特征选择"
   ]
  },
  {
   "cell_type": "code",
   "execution_count": 11,
   "id": "11722a1b",
   "metadata": {},
   "outputs": [],
   "source": [
    "# feature_import = pd.DataFrame()\n",
    "# feature_import['columns'] = feat\n",
    "# feature_import['score'] = feat_imp\n",
    "# feature_import = feature_import.sort_values(by='score', ascending=False)\n",
    "# for j in np.arange(0.2, 0.91, 0.01):\n",
    "#     print(f'阈值={j}')\n",
    "#     feat = list(feature_import[feature_import['score'] >= j]['columns'].values)\n",
    "#     oof = np.zeros(len(train))\n",
    "#     feat_imp = np.zeros(len(feat))\n",
    "#     skf = StratifiedKFold(n_splits=5, shuffle=True, random_state=42)\n",
    "#     for i, (tra_index, val_index) in enumerate(skf.split(train, label)):\n",
    "#         tra_x = train.iloc[tra_index, :][feat].values\n",
    "#         tra_y = label.iloc[tra_index].values\n",
    "#         val_x = train.iloc[val_index, :][feat].values\n",
    "#         val_y = label.iloc[val_index].values\n",
    "#         model = LogisticRegression(class_weight='balanced', random_state=42)\n",
    "#         model.fit(tra_x, tra_y)\n",
    "#         pred_soft = model.predict_proba(val_x)[:, 1]\n",
    "#         pred = model.predict(val_x)\n",
    "#         score = accuracy_score(val_y, pred)\n",
    "#         oof[val_index] = pred\n",
    "#     oof_score = accuracy_score(label.values, oof)\n",
    "#     print(f'OOF 准确率 = {oof_score}')\n",
    "#     print('*' * 30)\n"
   ]
  },
  {
   "cell_type": "code",
   "execution_count": 12,
   "id": "b4a075e3",
   "metadata": {},
   "outputs": [],
   "source": [
    "# list(feature_import[feature_import['score'] >= 0.48]['columns'].values)"
   ]
  },
  {
   "cell_type": "markdown",
   "id": "4d852aa6",
   "metadata": {},
   "source": [
    "# 全数据训练和预测"
   ]
  },
  {
   "cell_type": "code",
   "execution_count": 13,
   "id": "80a08783",
   "metadata": {},
   "outputs": [],
   "source": [
    "model = LogisticRegression(class_weight='balanced', random_state=42)\n",
    "model.fit(train[feat].values, label.values)\n",
    "train_pred = model.predict_proba(train[feat].values)[:, 1]\n",
    "test_pred = model.predict_proba(test[feat].values)[:, 1]\n",
    "all_pred = np.concatenate([train_pred, test_pred])\n",
    "data['pred'] = all_pred\n",
    "data[['ID', 'pred']].to_csv('1b.csv', index=None)"
   ]
  },
  {
   "cell_type": "code",
   "execution_count": 14,
   "id": "9dd05cdf",
   "metadata": {},
   "outputs": [],
   "source": [
    "#可改进的地方：特征工程，使用多个模型，特征选择，调参，多模型集成"
   ]
  },
  {
   "cell_type": "code",
   "execution_count": null,
   "id": "5a30772c",
   "metadata": {},
   "outputs": [],
   "source": []
  }
 ],
 "metadata": {
  "kernelspec": {
   "display_name": "Python 3 (ipykernel)",
   "language": "python",
   "name": "python3"
  },
  "language_info": {
   "codemirror_mode": {
    "name": "ipython",
    "version": 3
   },
   "file_extension": ".py",
   "mimetype": "text/x-python",
   "name": "python",
   "nbconvert_exporter": "python",
   "pygments_lexer": "ipython3",
   "version": "3.10.9"
  }
 },
 "nbformat": 4,
 "nbformat_minor": 5
}
